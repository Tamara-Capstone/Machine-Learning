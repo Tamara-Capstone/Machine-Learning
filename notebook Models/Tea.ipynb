{
  "cells": [
    {
      "cell_type": "code",
      "execution_count": 1,
      "metadata": {
        "id": "_5j3XR9rcqCG"
      },
      "outputs": [],
      "source": [
        "import tensorflow as tf\n",
        "import tensorflow_hub as tfhub\n",
        "import tensorflow_datasets as tfds\n",
        "import matplotlib.pyplot as plt\n",
        "import numpy as np\n",
        "import PIL \n",
        "from PIL import Image\n",
        "import os"
      ]
    },
    {
      "cell_type": "code",
      "execution_count": null,
      "metadata": {
        "id": "dxNnMcaLdHZT"
      },
      "outputs": [],
      "source": [
        "apple_data = '/content/drive/MyDrive/Capstone Project/Tea'"
      ]
    },
    {
      "cell_type": "code",
      "execution_count": null,
      "metadata": {
        "colab": {
          "base_uri": "https://localhost:8080/"
        },
        "id": "Eo930PADtgAV",
        "outputId": "630ae91a-9de5-40f7-a1cc-f95e564e2041"
      },
      "outputs": [
        {
          "name": "stdout",
          "output_type": "stream",
          "text": [
            "Found 3245 images belonging to 9 classes.\n",
            "Found 1386 images belonging to 9 classes.\n",
            "Found 1386 images belonging to 9 classes.\n"
          ]
        }
      ],
      "source": [
        "from tensorflow.keras.preprocessing.image import ImageDataGenerator\n",
        "\n",
        "\n",
        "image_size = (224,224)\n",
        "batch_size = 8\n",
        "\n",
        "\n",
        "train_datagen = ImageDataGenerator(\n",
        "    rescale = 1/255.,\n",
        "    rotation_range=40,\n",
        "    shear_range=0.2,\n",
        "    zoom_range=0.2,\n",
        "    horizontal_flip=True,\n",
        "    validation_split = 0.3\n",
        ")\n",
        "\n",
        "train_generator = train_datagen.flow_from_directory(\n",
        "    apple_data,\n",
        "    target_size = image_size,\n",
        "    batch_size = batch_size,\n",
        "    class_mode = 'categorical',\n",
        "    subset = 'training'\n",
        ")\n",
        "\n",
        "validation_generator = train_datagen.flow_from_directory(\n",
        "    apple_data,\n",
        "    target_size = image_size,\n",
        "    batch_size = batch_size,\n",
        "    class_mode = 'categorical',\n",
        "    subset = 'validation'\n",
        ")\n",
        "\n",
        "test_generator = train_datagen.flow_from_directory(\n",
        "    apple_data,\n",
        "    target_size = image_size,\n",
        "    batch_size = batch_size,\n",
        "    class_mode = 'categorical',\n",
        "    shuffle = False,\n",
        "    subset = 'validation'\n",
        ")"
      ]
    },
    {
      "cell_type": "code",
      "execution_count": 3,
      "metadata": {
        "id": "3FkhX9raaJgV"
      },
      "outputs": [],
      "source": [
        "hub_models = tfhub.load('https://tfhub.dev/rishit-dagli/plant-disease/1')\n",
        "model_layer = tfhub.KerasLayer(hub_models, input_shape=(224,224,3))"
      ]
    },
    {
      "cell_type": "code",
      "execution_count": 4,
      "metadata": {
        "id": "iqTV0hRZcsTa"
      },
      "outputs": [],
      "source": [
        "model_layer.trainable = False"
      ]
    },
    {
      "cell_type": "code",
      "execution_count": 5,
      "metadata": {
        "colab": {
          "base_uri": "https://localhost:8080/"
        },
        "id": "MRB3P0ICFqUn",
        "outputId": "45cd4b40-d025-4566-8bcf-6f47c4c71022"
      },
      "outputs": [
        {
          "name": "stdout",
          "output_type": "stream",
          "text": [
            "Model: \"sequential\"\n",
            "_________________________________________________________________\n",
            " Layer (type)                Output Shape              Param #   \n",
            "=================================================================\n",
            " keras_layer (KerasLayer)    (None, 38)                3267814   \n",
            "                                                                 \n",
            " dense (Dense)               (None, 256)               9984      \n",
            "                                                                 \n",
            " dropout (Dropout)           (None, 256)               0         \n",
            "                                                                 \n",
            " dense_1 (Dense)             (None, 6)                 1542      \n",
            "                                                                 \n",
            "=================================================================\n",
            "Total params: 3,279,340\n",
            "Trainable params: 11,526\n",
            "Non-trainable params: 3,267,814\n",
            "_________________________________________________________________\n"
          ]
        }
      ],
      "source": [
        "model = tf.keras.models.Sequential([\n",
        "    model_layer,\n",
        "    tf.keras.layers.Dense(256, activation='relu'),\n",
        "    tf.keras.layers.Dropout(0.3),\n",
        "    tf.keras.layers.Dense(6, activation='softmax')\n",
        "])\n",
        "\n",
        "model.summary()"
      ]
    },
    {
      "cell_type": "code",
      "execution_count": null,
      "metadata": {
        "id": "kXBRTHTitvMZ"
      },
      "outputs": [],
      "source": [
        "model.compile(optimizer='adam', loss='categorical_crossentropy', metrics=['accuracy'])\n"
      ]
    },
    {
      "cell_type": "code",
      "execution_count": null,
      "metadata": {
        "colab": {
          "base_uri": "https://localhost:8080/"
        },
        "id": "ChqPv_19twP2",
        "outputId": "c8434f05-c3ad-4d38-cc62-cc27b206e738"
      },
      "outputs": [
        {
          "name": "stdout",
          "output_type": "stream",
          "text": [
            "Epoch 1/20\n",
            "405/405 [==============================] - 671s 2s/step - loss: 0.6056 - accuracy: 0.8542 - val_loss: 0.2940 - val_accuracy: 0.8938\n",
            "Epoch 2/20\n",
            "405/405 [==============================] - 78s 193ms/step - loss: 0.3144 - accuracy: 0.8922 - val_loss: 0.2671 - val_accuracy: 0.9032\n",
            "Epoch 3/20\n",
            "405/405 [==============================] - 71s 176ms/step - loss: 0.3040 - accuracy: 0.8968 - val_loss: 0.2699 - val_accuracy: 0.9017\n",
            "Epoch 4/20\n",
            "405/405 [==============================] - 70s 173ms/step - loss: 0.2802 - accuracy: 0.8977 - val_loss: 0.2668 - val_accuracy: 0.9003\n",
            "Epoch 5/20\n",
            "405/405 [==============================] - 71s 176ms/step - loss: 0.2726 - accuracy: 0.9070 - val_loss: 0.2716 - val_accuracy: 0.9046\n",
            "Epoch 6/20\n",
            "405/405 [==============================] - 71s 176ms/step - loss: 0.2859 - accuracy: 0.9039 - val_loss: 0.2427 - val_accuracy: 0.9118\n",
            "Epoch 7/20\n",
            "405/405 [==============================] - 71s 175ms/step - loss: 0.2763 - accuracy: 0.9055 - val_loss: 0.2550 - val_accuracy: 0.9039\n",
            "Epoch 8/20\n",
            "405/405 [==============================] - 72s 177ms/step - loss: 0.2644 - accuracy: 0.9082 - val_loss: 0.2379 - val_accuracy: 0.9140\n",
            "Epoch 9/20\n",
            "405/405 [==============================] - 72s 177ms/step - loss: 0.2544 - accuracy: 0.9095 - val_loss: 0.2536 - val_accuracy: 0.9046\n",
            "Epoch 10/20\n",
            "405/405 [==============================] - 71s 175ms/step - loss: 0.2715 - accuracy: 0.9070 - val_loss: 0.2607 - val_accuracy: 0.9082\n",
            "Epoch 11/20\n",
            "405/405 [==============================] - 93s 230ms/step - loss: 0.2595 - accuracy: 0.9095 - val_loss: 0.2324 - val_accuracy: 0.9176\n",
            "Epoch 12/20\n",
            "405/405 [==============================] - 71s 175ms/step - loss: 0.2586 - accuracy: 0.9154 - val_loss: 0.2339 - val_accuracy: 0.9133\n",
            "Epoch 13/20\n",
            "405/405 [==============================] - 71s 175ms/step - loss: 0.2361 - accuracy: 0.9110 - val_loss: 0.2298 - val_accuracy: 0.9090\n",
            "Epoch 14/20\n",
            "405/405 [==============================] - 71s 175ms/step - loss: 0.2429 - accuracy: 0.9166 - val_loss: 0.2415 - val_accuracy: 0.9111\n",
            "Epoch 15/20\n",
            "405/405 [==============================] - 92s 227ms/step - loss: 0.2395 - accuracy: 0.9104 - val_loss: 0.2227 - val_accuracy: 0.9198\n",
            "Epoch 16/20\n",
            "405/405 [==============================] - 72s 177ms/step - loss: 0.2373 - accuracy: 0.9120 - val_loss: 0.2322 - val_accuracy: 0.9118\n",
            "Epoch 17/20\n",
            "405/405 [==============================] - 72s 178ms/step - loss: 0.2423 - accuracy: 0.9154 - val_loss: 0.2114 - val_accuracy: 0.9227\n",
            "Epoch 18/20\n",
            "405/405 [==============================] - 91s 225ms/step - loss: 0.2398 - accuracy: 0.9110 - val_loss: 0.2256 - val_accuracy: 0.9169\n",
            "Epoch 19/20\n",
            "405/405 [==============================] - 71s 176ms/step - loss: 0.2357 - accuracy: 0.9169 - val_loss: 0.2254 - val_accuracy: 0.9184\n",
            "Epoch 20/20\n",
            "405/405 [==============================] - 91s 226ms/step - loss: 0.2294 - accuracy: 0.9166 - val_loss: 0.2308 - val_accuracy: 0.9176\n"
          ]
        }
      ],
      "source": [
        "history = model.fit(\n",
        "    train_generator,\n",
        "    steps_per_epoch=train_generator.n // batch_size,\n",
        "    epochs=20,\n",
        "    # callbacks=[early_stopping],\n",
        "    validation_data=validation_generator,\n",
        "    validation_steps=validation_generator.n // batch_size\n",
        ")"
      ]
    },
    {
      "cell_type": "code",
      "execution_count": null,
      "metadata": {
        "colab": {
          "base_uri": "https://localhost:8080/",
          "height": 469
        },
        "id": "nQFX8Vasd4Dl",
        "outputId": "8dfa79ed-6c28-4c5a-d46b-7cb222a02c80"
      },
      "outputs": [
        {
          "data": {
            "image/png": "[encoded data removed]",
            "text/plain": [
              "<Figure size 640x480 with 1 Axes>"
            ]
          },
          "metadata": {},
          "output_type": "display_data"
        },
        {
          "data": {
            "text/plain": [
              "<Figure size 640x480 with 0 Axes>"
            ]
          },
          "metadata": {},
          "output_type": "display_data"
        }
      ],
      "source": [
        "acc = history.history['accuracy']\n",
        "val_acc = history.history['val_accuracy']\n",
        "loss = history.history['loss']\n",
        "val_loss = history.history['val_loss']\n",
        "\n",
        "epochs = range(len(acc))\n",
        "\n",
        "plt.plot(epochs, acc, 'r', label='Training accuracy')\n",
        "plt.plot(epochs, val_acc, 'b', label='Validation accuracy')\n",
        "plt.title('Training and validation accuracy')\n",
        "plt.legend(loc=0)\n",
        "plt.figure()\n",
        "\n",
        "\n",
        "plt.show()"
      ]
    },
    {
      "cell_type": "code",
      "execution_count": null,
      "metadata": {
        "colab": {
          "base_uri": "https://localhost:8080/"
        },
        "id": "afq_12VYyn_-",
        "outputId": "b376dc35-8f76-4f95-98a3-c876eab2bca1"
      },
      "outputs": [
        {
          "name": "stdout",
          "output_type": "stream",
          "text": [
            "174/174 [==============================] - 22s 124ms/step - loss: 0.1921 - accuracy: 0.9300\n"
          ]
        },
        {
          "data": {
            "text/plain": [
              "[0.19208934903144836, 0.930014431476593]"
            ]
          },
          "execution_count": 22,
          "metadata": {},
          "output_type": "execute_result"
        }
      ],
      "source": [
        "model.evaluate(test_generator)"
      ]
    },
    {
      "cell_type": "code",
      "execution_count": null,
      "metadata": {
        "id": "gB6nQIyo6bgM"
      },
      "outputs": [],
      "source": [
        "# serialize model to JSON\n",
        "model_json = model.to_json()\n",
        "with open(\"model.json\", \"w\") as json_file:\n",
        "    json_file.write(model_json)\n",
        "# serialize weights to HDF5\n",
        "model.save_weights(\"model.h5\")\n",
        "print(\"Saved model to disk\")"
      ]
    }
  ],
  "metadata": {
    "colab": {
      "provenance": []
    },
    "kernelspec": {
      "display_name": "Python 3",
      "name": "python3"
    },
    "language_info": {
      "codemirror_mode": {
        "name": "ipython",
        "version": 3
      },
      "file_extension": ".py",
      "mimetype": "text/x-python",
      "name": "python",
      "nbconvert_exporter": "python",
      "pygments_lexer": "ipython3",
      "version": "3.10.9"
    }
  },
  "nbformat": 4,
  "nbformat_minor": 0
}
